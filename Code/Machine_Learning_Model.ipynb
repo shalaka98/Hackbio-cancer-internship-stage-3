{
 "cells": [
  {
   "cell_type": "markdown",
   "metadata": {},
   "source": [
    "<div class=\"alert alert-info\" style=\"background-color:#006a79; color:white; padding:0px 10px; border-radius:5px;\"><h2 style='margin:10px 5px'>Package and Data Import</h2>\n",
    "</div>"
   ]
  },
  {
   "cell_type": "code",
   "execution_count": 1,
   "metadata": {},
   "outputs": [],
   "source": [
    "# Import relevant packages\n",
    "import pandas as pd\n",
    "import numpy as np\n",
    "from sklearn.ensemble import RandomForestClassifier\n",
    "from sklearn.model_selection import train_test_split, GridSearchCV\n",
    "from sklearn.metrics import accuracy_score, classification_report, confusion_matrix, roc_auc_score, roc_curve\n",
    "from sklearn.preprocessing import StandardScaler\n",
    "from sklearn.decomposition import PCA\n",
    "import matplotlib.pyplot as plt\n",
    "import seaborn as sns\n",
    "from scipy.stats import randint"
   ]
  },
  {
   "cell_type": "code",
   "execution_count": 2,
   "metadata": {},
   "outputs": [
    {
     "data": {
      "text/html": [
       "<div>\n",
       "<style scoped>\n",
       "    .dataframe tbody tr th:only-of-type {\n",
       "        vertical-align: middle;\n",
       "    }\n",
       "\n",
       "    .dataframe tbody tr th {\n",
       "        vertical-align: top;\n",
       "    }\n",
       "\n",
       "    .dataframe thead th {\n",
       "        text-align: right;\n",
       "    }\n",
       "</style>\n",
       "<table border=\"1\" class=\"dataframe\">\n",
       "  <thead>\n",
       "    <tr style=\"text-align: right;\">\n",
       "      <th></th>\n",
       "      <th>Unnamed: 0</th>\n",
       "      <th>irregular_smoker_1</th>\n",
       "      <th>irregular_smoker_2</th>\n",
       "      <th>irregular_smoker_3</th>\n",
       "      <th>irregular_smoker_4</th>\n",
       "      <th>irregular_smoker_5</th>\n",
       "      <th>irregular_smoker_6</th>\n",
       "      <th>irregular_smoker_7</th>\n",
       "      <th>irregular_smoker_8</th>\n",
       "      <th>irregular_smoker_9</th>\n",
       "      <th>...</th>\n",
       "      <th>regular_smoker_11</th>\n",
       "      <th>regular_smoker_12</th>\n",
       "      <th>regular_smoker_13</th>\n",
       "      <th>regular_smoker_14</th>\n",
       "      <th>regular_smoker_15</th>\n",
       "      <th>regular_smoker_16</th>\n",
       "      <th>regular_smoker_17</th>\n",
       "      <th>regular_smoker_18</th>\n",
       "      <th>regular_smoker_19</th>\n",
       "      <th>regular_smoker_20</th>\n",
       "    </tr>\n",
       "  </thead>\n",
       "  <tbody>\n",
       "    <tr>\n",
       "      <th>0</th>\n",
       "      <td>ENSG00000000003</td>\n",
       "      <td>3087</td>\n",
       "      <td>1624</td>\n",
       "      <td>3424</td>\n",
       "      <td>2370</td>\n",
       "      <td>4006</td>\n",
       "      <td>4586</td>\n",
       "      <td>1588</td>\n",
       "      <td>2436</td>\n",
       "      <td>9079</td>\n",
       "      <td>...</td>\n",
       "      <td>1686</td>\n",
       "      <td>2624</td>\n",
       "      <td>1369</td>\n",
       "      <td>4774</td>\n",
       "      <td>6616</td>\n",
       "      <td>4577</td>\n",
       "      <td>2261</td>\n",
       "      <td>667</td>\n",
       "      <td>4662</td>\n",
       "      <td>5315</td>\n",
       "    </tr>\n",
       "    <tr>\n",
       "      <th>1</th>\n",
       "      <td>ENSG00000000005</td>\n",
       "      <td>0</td>\n",
       "      <td>0</td>\n",
       "      <td>1</td>\n",
       "      <td>8</td>\n",
       "      <td>3</td>\n",
       "      <td>0</td>\n",
       "      <td>1</td>\n",
       "      <td>2</td>\n",
       "      <td>3</td>\n",
       "      <td>...</td>\n",
       "      <td>0</td>\n",
       "      <td>0</td>\n",
       "      <td>0</td>\n",
       "      <td>9</td>\n",
       "      <td>0</td>\n",
       "      <td>0</td>\n",
       "      <td>0</td>\n",
       "      <td>10</td>\n",
       "      <td>1</td>\n",
       "      <td>9</td>\n",
       "    </tr>\n",
       "    <tr>\n",
       "      <th>2</th>\n",
       "      <td>ENSG00000000419</td>\n",
       "      <td>2389</td>\n",
       "      <td>1588</td>\n",
       "      <td>1700</td>\n",
       "      <td>1290</td>\n",
       "      <td>1433</td>\n",
       "      <td>2629</td>\n",
       "      <td>816</td>\n",
       "      <td>1918</td>\n",
       "      <td>3519</td>\n",
       "      <td>...</td>\n",
       "      <td>1064</td>\n",
       "      <td>1964</td>\n",
       "      <td>703</td>\n",
       "      <td>974</td>\n",
       "      <td>2332</td>\n",
       "      <td>2329</td>\n",
       "      <td>1792</td>\n",
       "      <td>554</td>\n",
       "      <td>1414</td>\n",
       "      <td>3541</td>\n",
       "    </tr>\n",
       "    <tr>\n",
       "      <th>3</th>\n",
       "      <td>ENSG00000000457</td>\n",
       "      <td>1171</td>\n",
       "      <td>498</td>\n",
       "      <td>2170</td>\n",
       "      <td>713</td>\n",
       "      <td>820</td>\n",
       "      <td>1512</td>\n",
       "      <td>359</td>\n",
       "      <td>895</td>\n",
       "      <td>1630</td>\n",
       "      <td>...</td>\n",
       "      <td>1167</td>\n",
       "      <td>431</td>\n",
       "      <td>479</td>\n",
       "      <td>838</td>\n",
       "      <td>998</td>\n",
       "      <td>1257</td>\n",
       "      <td>246</td>\n",
       "      <td>716</td>\n",
       "      <td>543</td>\n",
       "      <td>1756</td>\n",
       "    </tr>\n",
       "    <tr>\n",
       "      <th>4</th>\n",
       "      <td>ENSG00000000460</td>\n",
       "      <td>282</td>\n",
       "      <td>114</td>\n",
       "      <td>457</td>\n",
       "      <td>496</td>\n",
       "      <td>258</td>\n",
       "      <td>311</td>\n",
       "      <td>193</td>\n",
       "      <td>780</td>\n",
       "      <td>1097</td>\n",
       "      <td>...</td>\n",
       "      <td>329</td>\n",
       "      <td>198</td>\n",
       "      <td>140</td>\n",
       "      <td>149</td>\n",
       "      <td>614</td>\n",
       "      <td>823</td>\n",
       "      <td>131</td>\n",
       "      <td>619</td>\n",
       "      <td>161</td>\n",
       "      <td>918</td>\n",
       "    </tr>\n",
       "  </tbody>\n",
       "</table>\n",
       "<p>5 rows × 41 columns</p>\n",
       "</div>"
      ],
      "text/plain": [
       "        Unnamed: 0  irregular_smoker_1  irregular_smoker_2  \\\n",
       "0  ENSG00000000003                3087                1624   \n",
       "1  ENSG00000000005                   0                   0   \n",
       "2  ENSG00000000419                2389                1588   \n",
       "3  ENSG00000000457                1171                 498   \n",
       "4  ENSG00000000460                 282                 114   \n",
       "\n",
       "   irregular_smoker_3  irregular_smoker_4  irregular_smoker_5  \\\n",
       "0                3424                2370                4006   \n",
       "1                   1                   8                   3   \n",
       "2                1700                1290                1433   \n",
       "3                2170                 713                 820   \n",
       "4                 457                 496                 258   \n",
       "\n",
       "   irregular_smoker_6  irregular_smoker_7  irregular_smoker_8  \\\n",
       "0                4586                1588                2436   \n",
       "1                   0                   1                   2   \n",
       "2                2629                 816                1918   \n",
       "3                1512                 359                 895   \n",
       "4                 311                 193                 780   \n",
       "\n",
       "   irregular_smoker_9  ...  regular_smoker_11  regular_smoker_12  \\\n",
       "0                9079  ...               1686               2624   \n",
       "1                   3  ...                  0                  0   \n",
       "2                3519  ...               1064               1964   \n",
       "3                1630  ...               1167                431   \n",
       "4                1097  ...                329                198   \n",
       "\n",
       "   regular_smoker_13  regular_smoker_14  regular_smoker_15  regular_smoker_16  \\\n",
       "0               1369               4774               6616               4577   \n",
       "1                  0                  9                  0                  0   \n",
       "2                703                974               2332               2329   \n",
       "3                479                838                998               1257   \n",
       "4                140                149                614                823   \n",
       "\n",
       "   regular_smoker_17  regular_smoker_18  regular_smoker_19  regular_smoker_20  \n",
       "0               2261                667               4662               5315  \n",
       "1                  0                 10                  1                  9  \n",
       "2               1792                554               1414               3541  \n",
       "3                246                716                543               1756  \n",
       "4                131                619                161                918  \n",
       "\n",
       "[5 rows x 41 columns]"
      ]
     },
     "execution_count": 2,
     "metadata": {},
     "output_type": "execute_result"
    }
   ],
   "source": [
    "# Import dataset\n",
    "df = pd.read_csv(\"https://raw.githubusercontent.com/shalaka98/Hackbio-cancer-internship-stage-3/b3d7372d308fddb9bbdc64c0e287abe98470010b/Data/Normalized_count_Data_final%20(1).csv\")\n",
    "df.head()"
   ]
  },
  {
   "cell_type": "markdown",
   "metadata": {},
   "source": [
    "There are no missing values in the dataset"
   ]
  },
  {
   "cell_type": "code",
   "execution_count": 3,
   "metadata": {},
   "outputs": [
    {
     "name": "stdout",
     "output_type": "stream",
     "text": [
      "(33439, 41)\n"
     ]
    },
    {
     "data": {
      "text/plain": [
       "Unnamed: 0             0\n",
       "irregular_smoker_1     0\n",
       "irregular_smoker_2     0\n",
       "irregular_smoker_3     0\n",
       "irregular_smoker_4     0\n",
       "irregular_smoker_5     0\n",
       "irregular_smoker_6     0\n",
       "irregular_smoker_7     0\n",
       "irregular_smoker_8     0\n",
       "irregular_smoker_9     0\n",
       "irregular_smoker_10    0\n",
       "irregular_smoker_11    0\n",
       "irregular_smoker_12    0\n",
       "irregular_smoker_13    0\n",
       "irregular_smoker_14    0\n",
       "irregular_smoker_15    0\n",
       "irregular_smoker_16    0\n",
       "irregular_smoker_17    0\n",
       "irregular_smoker_18    0\n",
       "irregular_smoker_19    0\n",
       "irregular_smoker_20    0\n",
       "regular_smoker_1       0\n",
       "regular_smoker_2       0\n",
       "regular_smoker_3       0\n",
       "regular_smoker_4       0\n",
       "regular_smoker_5       0\n",
       "regular_smoker_6       0\n",
       "regular_smoker_7       0\n",
       "regular_smoker_8       0\n",
       "regular_smoker_9       0\n",
       "regular_smoker_10      0\n",
       "regular_smoker_11      0\n",
       "regular_smoker_12      0\n",
       "regular_smoker_13      0\n",
       "regular_smoker_14      0\n",
       "regular_smoker_15      0\n",
       "regular_smoker_16      0\n",
       "regular_smoker_17      0\n",
       "regular_smoker_18      0\n",
       "regular_smoker_19      0\n",
       "regular_smoker_20      0\n",
       "dtype: int64"
      ]
     },
     "execution_count": 3,
     "metadata": {},
     "output_type": "execute_result"
    }
   ],
   "source": [
    "# Check shape of the datset and null values.\n",
    "print(df.shape)\n",
    "df.isnull().sum()"
   ]
  },
  {
   "cell_type": "markdown",
   "metadata": {},
   "source": [
    "<div class=\"alert alert-info\" style=\"background-color:#006a79; color:white; padding:0px 10px; border-radius:5px;\"><h2 style='margin:10px 5px'>Data Preprocessing</h2>\n",
    "</div>"
   ]
  },
  {
   "cell_type": "code",
   "execution_count": 4,
   "metadata": {},
   "outputs": [],
   "source": [
    "# Reshape dataframe\n",
    "df_t = df.T\n",
    "df_t.columns = df_t.iloc[0]\n",
    "df_t['samples'] = df_t.index\n",
    "df_t = df_t.iloc[1:].reset_index(drop=True)"
   ]
  },
  {
   "cell_type": "code",
   "execution_count": 5,
   "metadata": {},
   "outputs": [
    {
     "data": {
      "text/html": [
       "<div>\n",
       "<style scoped>\n",
       "    .dataframe tbody tr th:only-of-type {\n",
       "        vertical-align: middle;\n",
       "    }\n",
       "\n",
       "    .dataframe tbody tr th {\n",
       "        vertical-align: top;\n",
       "    }\n",
       "\n",
       "    .dataframe thead th {\n",
       "        text-align: right;\n",
       "    }\n",
       "</style>\n",
       "<table border=\"1\" class=\"dataframe\">\n",
       "  <thead>\n",
       "    <tr style=\"text-align: right;\">\n",
       "      <th>Unnamed: 0</th>\n",
       "      <th>ENSG00000000003</th>\n",
       "      <th>ENSG00000000005</th>\n",
       "      <th>ENSG00000000419</th>\n",
       "      <th>ENSG00000000457</th>\n",
       "      <th>ENSG00000000460</th>\n",
       "      <th>ENSG00000000938</th>\n",
       "      <th>ENSG00000000971</th>\n",
       "      <th>ENSG00000001036</th>\n",
       "      <th>ENSG00000001084</th>\n",
       "      <th>ENSG00000001167</th>\n",
       "      <th>...</th>\n",
       "      <th>ENSG00000288612</th>\n",
       "      <th>ENSG00000288632</th>\n",
       "      <th>ENSG00000288637</th>\n",
       "      <th>ENSG00000288638</th>\n",
       "      <th>ENSG00000288658</th>\n",
       "      <th>ENSG00000288663</th>\n",
       "      <th>ENSG00000288670</th>\n",
       "      <th>ENSG00000288674</th>\n",
       "      <th>ENSG00000288675</th>\n",
       "      <th>samples</th>\n",
       "    </tr>\n",
       "  </thead>\n",
       "  <tbody>\n",
       "    <tr>\n",
       "      <th>0</th>\n",
       "      <td>3087</td>\n",
       "      <td>0</td>\n",
       "      <td>2389</td>\n",
       "      <td>1171</td>\n",
       "      <td>282</td>\n",
       "      <td>240</td>\n",
       "      <td>30708</td>\n",
       "      <td>1531</td>\n",
       "      <td>229</td>\n",
       "      <td>3812</td>\n",
       "      <td>...</td>\n",
       "      <td>39</td>\n",
       "      <td>0</td>\n",
       "      <td>0</td>\n",
       "      <td>0</td>\n",
       "      <td>172</td>\n",
       "      <td>19</td>\n",
       "      <td>367</td>\n",
       "      <td>8</td>\n",
       "      <td>51</td>\n",
       "      <td>irregular_smoker</td>\n",
       "    </tr>\n",
       "    <tr>\n",
       "      <th>1</th>\n",
       "      <td>1624</td>\n",
       "      <td>0</td>\n",
       "      <td>1588</td>\n",
       "      <td>498</td>\n",
       "      <td>114</td>\n",
       "      <td>743</td>\n",
       "      <td>3092</td>\n",
       "      <td>1185</td>\n",
       "      <td>967</td>\n",
       "      <td>2268</td>\n",
       "      <td>...</td>\n",
       "      <td>20</td>\n",
       "      <td>0</td>\n",
       "      <td>0</td>\n",
       "      <td>5</td>\n",
       "      <td>6</td>\n",
       "      <td>11</td>\n",
       "      <td>221</td>\n",
       "      <td>6</td>\n",
       "      <td>15</td>\n",
       "      <td>irregular_smoker</td>\n",
       "    </tr>\n",
       "    <tr>\n",
       "      <th>2</th>\n",
       "      <td>3424</td>\n",
       "      <td>1</td>\n",
       "      <td>1700</td>\n",
       "      <td>2170</td>\n",
       "      <td>457</td>\n",
       "      <td>263</td>\n",
       "      <td>1745</td>\n",
       "      <td>1879</td>\n",
       "      <td>8258</td>\n",
       "      <td>2702</td>\n",
       "      <td>...</td>\n",
       "      <td>169</td>\n",
       "      <td>2</td>\n",
       "      <td>4</td>\n",
       "      <td>104</td>\n",
       "      <td>8</td>\n",
       "      <td>64</td>\n",
       "      <td>764</td>\n",
       "      <td>28</td>\n",
       "      <td>23</td>\n",
       "      <td>irregular_smoker</td>\n",
       "    </tr>\n",
       "    <tr>\n",
       "      <th>3</th>\n",
       "      <td>2370</td>\n",
       "      <td>8</td>\n",
       "      <td>1290</td>\n",
       "      <td>713</td>\n",
       "      <td>496</td>\n",
       "      <td>847</td>\n",
       "      <td>1557</td>\n",
       "      <td>2118</td>\n",
       "      <td>438</td>\n",
       "      <td>1602</td>\n",
       "      <td>...</td>\n",
       "      <td>26</td>\n",
       "      <td>1</td>\n",
       "      <td>9</td>\n",
       "      <td>0</td>\n",
       "      <td>41</td>\n",
       "      <td>51</td>\n",
       "      <td>329</td>\n",
       "      <td>3</td>\n",
       "      <td>28</td>\n",
       "      <td>irregular_smoker</td>\n",
       "    </tr>\n",
       "    <tr>\n",
       "      <th>4</th>\n",
       "      <td>4006</td>\n",
       "      <td>3</td>\n",
       "      <td>1433</td>\n",
       "      <td>820</td>\n",
       "      <td>258</td>\n",
       "      <td>2105</td>\n",
       "      <td>8860</td>\n",
       "      <td>1440</td>\n",
       "      <td>1393</td>\n",
       "      <td>2119</td>\n",
       "      <td>...</td>\n",
       "      <td>143</td>\n",
       "      <td>0</td>\n",
       "      <td>1</td>\n",
       "      <td>2</td>\n",
       "      <td>18</td>\n",
       "      <td>42</td>\n",
       "      <td>280</td>\n",
       "      <td>15</td>\n",
       "      <td>17</td>\n",
       "      <td>irregular_smoker</td>\n",
       "    </tr>\n",
       "  </tbody>\n",
       "</table>\n",
       "<p>5 rows × 33440 columns</p>\n",
       "</div>"
      ],
      "text/plain": [
       "Unnamed: 0 ENSG00000000003 ENSG00000000005 ENSG00000000419 ENSG00000000457  \\\n",
       "0                     3087               0            2389            1171   \n",
       "1                     1624               0            1588             498   \n",
       "2                     3424               1            1700            2170   \n",
       "3                     2370               8            1290             713   \n",
       "4                     4006               3            1433             820   \n",
       "\n",
       "Unnamed: 0 ENSG00000000460 ENSG00000000938 ENSG00000000971 ENSG00000001036  \\\n",
       "0                      282             240           30708            1531   \n",
       "1                      114             743            3092            1185   \n",
       "2                      457             263            1745            1879   \n",
       "3                      496             847            1557            2118   \n",
       "4                      258            2105            8860            1440   \n",
       "\n",
       "Unnamed: 0 ENSG00000001084 ENSG00000001167  ... ENSG00000288612  \\\n",
       "0                      229            3812  ...              39   \n",
       "1                      967            2268  ...              20   \n",
       "2                     8258            2702  ...             169   \n",
       "3                      438            1602  ...              26   \n",
       "4                     1393            2119  ...             143   \n",
       "\n",
       "Unnamed: 0 ENSG00000288632 ENSG00000288637 ENSG00000288638 ENSG00000288658  \\\n",
       "0                        0               0               0             172   \n",
       "1                        0               0               5               6   \n",
       "2                        2               4             104               8   \n",
       "3                        1               9               0              41   \n",
       "4                        0               1               2              18   \n",
       "\n",
       "Unnamed: 0 ENSG00000288663 ENSG00000288670 ENSG00000288674 ENSG00000288675  \\\n",
       "0                       19             367               8              51   \n",
       "1                       11             221               6              15   \n",
       "2                       64             764              28              23   \n",
       "3                       51             329               3              28   \n",
       "4                       42             280              15              17   \n",
       "\n",
       "Unnamed: 0           samples  \n",
       "0           irregular_smoker  \n",
       "1           irregular_smoker  \n",
       "2           irregular_smoker  \n",
       "3           irregular_smoker  \n",
       "4           irregular_smoker  \n",
       "\n",
       "[5 rows x 33440 columns]"
      ]
     },
     "execution_count": 5,
     "metadata": {},
     "output_type": "execute_result"
    }
   ],
   "source": [
    "# Remove the numbers from the sample labels\n",
    "df_t['samples'] = df_t['samples'].str.replace(r'_\\d+', '', regex=True)\n",
    "\n",
    "# View changes\n",
    "df_t.head()"
   ]
  },
  {
   "cell_type": "markdown",
   "metadata": {},
   "source": [
    "<div class=\"alert alert-info\" style=\"background-color:#006a79; color:white; padding:0px 10px; border-radius:5px;\"><h2 style='margin:10px 5px'>Feature Selection</h2>\n",
    "</div>"
   ]
  },
  {
   "cell_type": "code",
   "execution_count": 6,
   "metadata": {},
   "outputs": [],
   "source": [
    "# Feature selection\n",
    "from sklearn.feature_selection import VarianceThreshold\n",
    "selector = VarianceThreshold(threshold=200)\n",
    "df_selected = selector.fit_transform(df_t.drop(columns=\"samples\"))"
   ]
  },
  {
   "cell_type": "code",
   "execution_count": 7,
   "metadata": {},
   "outputs": [
    {
     "name": "stdout",
     "output_type": "stream",
     "text": [
      "feature space reduced by -27.55%\n"
     ]
    }
   ],
   "source": [
    "# Check the extent of feature reduction\n",
    "print(f\"feature space reduced by {((df_selected.shape[1] - df.shape[0]) / df.shape[0]) * 100:.2f}%\")"
   ]
  },
  {
   "cell_type": "markdown",
   "metadata": {},
   "source": [
    "<div class=\"alert alert-info\" style=\"background-color:#006a79; color:white; padding:0px 10px; border-radius:5px;\"><h2 style='margin:10px 5px'>Random Forest Classifier</h2>\n",
    "</div>"
   ]
  },
  {
   "cell_type": "markdown",
   "metadata": {},
   "source": [
    "### __Train/Test Split__"
   ]
  },
  {
   "cell_type": "code",
   "execution_count": 8,
   "metadata": {},
   "outputs": [],
   "source": [
    "# Split dataset into training and test subsets\n",
    "X = df_selected                                                                    # Get features\n",
    "y = df_t[\"samples\"]                                                                # Get labels\n",
    "X_train, X_test, y_train, y_test = train_test_split(X, y, test_size=0.2, \n",
    "                                                    random_state=42)               # Get training and test subets "
   ]
  },
  {
   "cell_type": "code",
   "execution_count": 11,
   "metadata": {},
   "outputs": [
    {
     "name": "stdout",
     "output_type": "stream",
     "text": [
      "Label distribution in training data: \n",
      "regular_smoker      17\n",
      "irregular_smoker    15\n",
      "Name: samples, dtype: int64\n",
      "\n",
      "\n",
      "Label distribution in test data: \n",
      "irregular_smoker    5\n",
      "regular_smoker      3\n",
      "Name: samples, dtype: int64\n"
     ]
    }
   ],
   "source": [
    "# Check label distribution in the training and test data\n",
    "print(f\"Label distribution in training data: \\n{y_train.value_counts()}\\n\\n\")\n",
    "print(f\"Label distribution in test data: \\n{y_test.value_counts()}\")"
   ]
  },
  {
   "cell_type": "markdown",
   "metadata": {},
   "source": [
    "### __Random Forrest Training__"
   ]
  },
  {
   "cell_type": "code",
   "execution_count": 13,
   "metadata": {},
   "outputs": [],
   "source": [
    "# Initialize the classifier\n",
    "rf = RandomForestClassifier(random_state=42)"
   ]
  },
  {
   "cell_type": "markdown",
   "metadata": {},
   "source": [
    "#### Hyperparameter Tuning using GridSearchCV"
   ]
  },
  {
   "cell_type": "code",
   "execution_count": 15,
   "metadata": {},
   "outputs": [
    {
     "name": "stdout",
     "output_type": "stream",
     "text": [
      "Best Parameters:  {'max_depth': 10, 'min_samples_split': 10, 'n_estimators': 300}\n"
     ]
    }
   ],
   "source": [
    "# Standardize the features\n",
    "scaler = StandardScaler()\n",
    "X_train_scaled = scaler.fit_transform(X_train)\n",
    "X_test_scaled = scaler.transform(X_test)\n",
    "\n",
    "\n",
    "# Hyperparameter tuning using GridSearchCV\n",
    "param_grid = {\n",
    "    'n_estimators': [100, 200, 300],\n",
    "    'max_depth': [10, 20, 30],\n",
    "    'min_samples_split': [2, 5, 10]\n",
    "}\n",
    "\n",
    "grid_search = GridSearchCV(rf, param_grid, scoring=\"accuracy\", cv=5, n_jobs=1)\n",
    "grid_search.fit(X_train_scaled, y_train)\n",
    "\n",
    "# Best parameters\n",
    "best_rf = grid_search.best_estimator_\n",
    "print(\"Best Parameters: \", grid_search.best_params_)"
   ]
  },
  {
   "cell_type": "markdown",
   "metadata": {},
   "source": [
    "<div class=\"alert alert-info\" style=\"background-color:#006a79; color:white; padding:0px 10px; border-radius:5px;\"><h2 style='margin:10px 5px'>Model Evaluation</h2>\n",
    "</div>"
   ]
  },
  {
   "cell_type": "markdown",
   "metadata": {},
   "source": [
    "### __Accuracy Score and Classification Report__"
   ]
  },
  {
   "cell_type": "code",
   "execution_count": 16,
   "metadata": {},
   "outputs": [],
   "source": [
    "# Predictions on test set\n",
    "y_pred = best_rf.predict(X_test_scaled)"
   ]
  },
  {
   "cell_type": "code",
   "execution_count": 17,
   "metadata": {},
   "outputs": [
    {
     "name": "stdout",
     "output_type": "stream",
     "text": [
      "Accuracy: 0.8750\n"
     ]
    }
   ],
   "source": [
    "# Accuracy score\n",
    "accuracy = accuracy_score(y_test, y_pred)\n",
    "print(f\"Accuracy: {accuracy:.4f}\")"
   ]
  },
  {
   "cell_type": "code",
   "execution_count": 18,
   "metadata": {},
   "outputs": [
    {
     "name": "stdout",
     "output_type": "stream",
     "text": [
      "Classification Report:\n",
      "                   precision    recall  f1-score   support\n",
      "\n",
      "irregular_smoker       1.00      0.80      0.89         5\n",
      "  regular_smoker       0.75      1.00      0.86         3\n",
      "\n",
      "        accuracy                           0.88         8\n",
      "       macro avg       0.88      0.90      0.87         8\n",
      "    weighted avg       0.91      0.88      0.88         8\n",
      "\n"
     ]
    }
   ],
   "source": [
    "# Classification report\n",
    "print(\"Classification Report:\\n\", classification_report(y_test, y_pred))"
   ]
  },
  {
   "cell_type": "markdown",
   "metadata": {},
   "source": [
    "### __Confusion Matrix__"
   ]
  },
  {
   "cell_type": "code",
   "execution_count": 19,
   "metadata": {},
   "outputs": [
    {
     "data": {
      "image/png": "[encoded data removed]",
      "text/plain": [
       "<Figure size 640x480 with 2 Axes>"
      ]
     },
     "metadata": {},
     "output_type": "display_data"
    }
   ],
   "source": [
    "# Confusion matrix\n",
    "conf_matrix = confusion_matrix(y_test, y_pred)\n",
    "sns.heatmap(conf_matrix, annot=True, fmt='d', cmap='Blues')\n",
    "plt.title('Confusion Matrix')\n",
    "plt.xlabel('Predicted')\n",
    "plt.ylabel('Actual')\n",
    "plt.show()"
   ]
  },
  {
   "cell_type": "markdown",
   "metadata": {},
   "source": [
    "### __Feature Importance__"
   ]
  },
  {
   "cell_type": "code",
   "execution_count": 20,
   "metadata": {},
   "outputs": [
    {
     "data": {
      "image/png": "[encoded data removed]",
      "text/plain": [
       "<Figure size 1000x600 with 1 Axes>"
      ]
     },
     "metadata": {},
     "output_type": "display_data"
    }
   ],
   "source": [
    "# Feature Importance\n",
    "feature_importances = best_rf.feature_importances_\n",
    "top_features_idx = np.argsort(feature_importances)[-10:]  # Top 10 most important features\n",
    "\n",
    "plt.figure(figsize=(10, 6))\n",
    "plt.barh(range(len(top_features_idx)), feature_importances[top_features_idx], align='center')\n",
    "plt.yticks(range(len(top_features_idx)), df_t.columns[top_features_idx])\n",
    "plt.title('Top 10 Important Genes')\n",
    "plt.xlabel('Importance')\n",
    "plt.ylabel('Genes')\n",
    "plt.show()"
   ]
  },
  {
   "cell_type": "markdown",
   "metadata": {},
   "source": [
    "### __ROC Curve__"
   ]
  },
  {
   "cell_type": "code",
   "execution_count": 21,
   "metadata": {},
   "outputs": [
    {
     "data": {
      "image/png": "[encoded data removed]",
      "text/plain": [
       "<Figure size 800x600 with 1 Axes>"
      ]
     },
     "metadata": {},
     "output_type": "display_data"
    }
   ],
   "source": [
    "# ROC Curve and AUC\n",
    "y_pred_proba = best_rf.predict_proba(X_test_scaled)[:, 1]\n",
    "fpr, tpr, thresholds = roc_curve(y_test.map({\"regular_smoker\": 1, \"irregular_smoker\": 0}), y_pred_proba)\n",
    "roc_auc = roc_auc_score(y_test.map({\"regular_smoker\": 1, \"irregular_smoker\": 0}), y_pred_proba)\n",
    "\n",
    "plt.figure(figsize=(8, 6))\n",
    "plt.plot(fpr, tpr, label=f'AUC = {roc_auc:.2f}')\n",
    "plt.plot([0, 1], [0, 1], 'k--', label='Random Classifier')\n",
    "plt.xlabel('False Positive Rate')\n",
    "plt.ylabel('True Positive Rate')\n",
    "plt.title('ROC Curve')\n",
    "plt.legend()\n",
    "plt.show()"
   ]
  },
  {
   "cell_type": "markdown",
   "metadata": {},
   "source": [
    "### __Precision-Recall Curve__\n",
    "\n",
    "Considering the class imbalance in the trainng and test data, a precision-recall curve might be more interpretable."
   ]
  },
  {
   "cell_type": "code",
   "execution_count": 22,
   "metadata": {},
   "outputs": [
    {
     "data": {
      "image/png": "[encoded data removed]",
      "text/plain": [
       "<Figure size 800x600 with 1 Axes>"
      ]
     },
     "metadata": {},
     "output_type": "display_data"
    },
    {
     "name": "stdout",
     "output_type": "stream",
     "text": [
      "Average Precision Score: 0.87\n"
     ]
    }
   ],
   "source": [
    "from sklearn.metrics import precision_recall_curve, average_precision_score\n",
    "import numpy as np\n",
    "\n",
    "# Predict probabilities\n",
    "y_pred_proba = best_rf.predict_proba(X_test)[:, 1]\n",
    "\n",
    "# Calculate precision, recall, and thresholds\n",
    "precision, recall, thresholds = precision_recall_curve(y_test.map({\"regular_smoker\": 1, \"irregular_smoker\": 0}), y_pred_proba)\n",
    "\n",
    "# Calculate average precision score\n",
    "avg_precision = average_precision_score(y_test.map({\"regular_smoker\": 1, \"irregular_smoker\": 0}), y_pred_proba)\n",
    "\n",
    "# Create the plot\n",
    "plt.figure(figsize=(8, 6))\n",
    "plt.step(recall, precision, where='post', label=f'AP = {avg_precision:.2f}')\n",
    "\n",
    "# Add the random classifier line\n",
    "no_skill = len(y_test[y_test == \"regular_smoker\"]) / len(y_test)\n",
    "plt.plot([0, 1], [no_skill, no_skill], linestyle='--', label='Random Classifier')\n",
    "\n",
    "# Customize the plot\n",
    "plt.xlabel('Recall')\n",
    "plt.ylabel('Precision')\n",
    "plt.title('Precision-Recall Curve')\n",
    "plt.legend()\n",
    "\n",
    "# Set axis limits\n",
    "plt.xlim([0.0, 1.0])\n",
    "plt.ylim([0.0, 1.05])\n",
    "\n",
    "plt.show()\n",
    "\n",
    "# Print the average precision score\n",
    "print(f'Average Precision Score: {avg_precision:.2f}')"
   ]
  }
 ],
 "metadata": {
  "kernelspec": {
   "display_name": "myenv",
   "language": "python",
   "name": "python3"
  },
  "language_info": {
   "codemirror_mode": {
    "name": "ipython",
    "version": 3
   },
   "file_extension": ".py",
   "mimetype": "text/x-python",
   "name": "python",
   "nbconvert_exporter": "python",
   "pygments_lexer": "ipython3",
   "version": "3.7.12"
  }
 },
 "nbformat": 4,
 "nbformat_minor": 2
}
